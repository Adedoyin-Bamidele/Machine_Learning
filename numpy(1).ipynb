import numpy as np
import matplotlib.pyplot as plt
a1 = np.array([3,4,6,8])
a2 = np.zeros(10)
a3 = np.random.random(10)
a4 = np.random.randn(10)
a5 = np.linspace(0, 10, 100)
a5
a7 = np.arange(0,10,0.03)
3.5 * a7
x =  a5**2
plt.plot(a5, x)
def f(x):
    return x* np.sin(x)/np.exp(-x)
f(x)
 t = 2*x* np.sin(x)/np.exp(-x)
 t
def f(m):
    return m* np.sin(m)/np.exp(-m)
m = np.linspace(0,4, 120)
names = np.array(['Bamidele', 'Adedoyin', 'Opeyemi', 'Adedamola', 'Gideon', 'Tosin', 'Owolabi','Temitope', 'Aremu'])
my_name = np.vectorize(lambda s: s[0])(names)
a = 2*np.random.randn(10000) + 10
np.mean(a)
np.percentile(a, 67)
c = np.linspace(0,50, 100) 
import math
c1 = 1/c**2 + np.sin(c)
dydx = np.gradient(c1, c)
plt.plot(c,c1)
plt.plot(c, int)
plt.plot(c, dydx)
